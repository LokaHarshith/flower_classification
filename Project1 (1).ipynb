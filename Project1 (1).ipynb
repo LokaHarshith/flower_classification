{
 "cells": [
  {
   "cell_type": "code",
   "execution_count": 1,
   "id": "100ba671",
   "metadata": {},
   "outputs": [],
   "source": [
    "import pandas as pd\n",
    "import numpy as np\n",
    "from sklearn.metrics import accuracy_score\n",
    "from sklearn.datasets import load_iris"
   ]
  },
  {
   "cell_type": "code",
   "execution_count": 2,
   "id": "a5dc7ddf",
   "metadata": {},
   "outputs": [
    {
     "name": "stdout",
     "output_type": "stream",
     "text": [
      "   sepal length (cm)  sepal width (cm)  petal length (cm)  petal width (cm)\n",
      "0                5.1               3.5                1.4               0.2\n",
      "1                4.9               3.0                1.4               0.2\n",
      "2                4.7               3.2                1.3               0.2\n",
      "3                4.6               3.1                1.5               0.2\n",
      "4                5.0               3.6                1.4               0.2\n"
     ]
    }
   ],
   "source": [
    "iris = load_iris()\n",
    "dataset = pd.DataFrame(iris.data, columns = iris.feature_names)\n",
    "print(dataset.head())"
   ]
  },
  {
   "cell_type": "code",
   "execution_count": 3,
   "id": "3be9a1ce",
   "metadata": {},
   "outputs": [],
   "source": [
    "dataset['target'] = iris.target"
   ]
  },
  {
   "cell_type": "code",
   "execution_count": 4,
   "id": "0aaff7e1",
   "metadata": {},
   "outputs": [
    {
     "name": "stdout",
     "output_type": "stream",
     "text": [
      "0      0\n",
      "1      0\n",
      "2      0\n",
      "3      0\n",
      "4      0\n",
      "      ..\n",
      "145    2\n",
      "146    2\n",
      "147    2\n",
      "148    2\n",
      "149    2\n",
      "Name: target, Length: 150, dtype: int32\n"
     ]
    }
   ],
   "source": [
    "print(dataset['target'])"
   ]
  },
  {
   "cell_type": "code",
   "execution_count": 5,
   "id": "1d3050ed",
   "metadata": {},
   "outputs": [],
   "source": [
    "from sklearn.model_selection import train_test_split\n",
    "x_train , x_test , y_train , y_test = train_test_split(np.array(dataset)[:,:4], np.array(dataset)[:,4], random_state=50, test_size = 0.25)"
   ]
  },
  {
   "cell_type": "code",
   "execution_count": 6,
   "id": "d0e6169e",
   "metadata": {},
   "outputs": [
    {
     "name": "stdout",
     "output_type": "stream",
     "text": [
      "1.0\n"
     ]
    }
   ],
   "source": [
    "print(y_train[0])"
   ]
  },
  {
   "cell_type": "code",
   "execution_count": 7,
   "id": "5dae3d05",
   "metadata": {},
   "outputs": [
    {
     "name": "stdout",
     "output_type": "stream",
     "text": [
      "[[1. 0. 0.]\n",
      " [0. 0. 1.]\n",
      " [0. 0. 1.]\n",
      " [1. 0. 0.]\n",
      " [0. 1. 0.]\n",
      " [0. 0. 1.]\n",
      " [0. 1. 0.]\n",
      " [0. 0. 1.]\n",
      " [0. 0. 1.]\n",
      " [0. 0. 1.]\n",
      " [0. 1. 0.]\n",
      " [0. 1. 0.]\n",
      " [1. 0. 0.]\n",
      " [0. 0. 1.]\n",
      " [0. 0. 1.]\n",
      " [1. 0. 0.]\n",
      " [0. 1. 0.]\n",
      " [1. 0. 0.]\n",
      " [1. 0. 0.]\n",
      " [0. 0. 1.]\n",
      " [0. 0. 1.]\n",
      " [0. 1. 0.]\n",
      " [0. 1. 0.]\n",
      " [1. 0. 0.]\n",
      " [0. 1. 0.]\n",
      " [0. 0. 1.]\n",
      " [0. 0. 1.]\n",
      " [0. 1. 0.]\n",
      " [1. 0. 0.]\n",
      " [0. 0. 1.]\n",
      " [1. 0. 0.]\n",
      " [0. 0. 1.]\n",
      " [0. 1. 0.]\n",
      " [0. 1. 0.]\n",
      " [1. 0. 0.]\n",
      " [0. 1. 0.]\n",
      " [1. 0. 0.]\n",
      " [0. 0. 1.]\n",
      " [1. 0. 0.]\n",
      " [0. 0. 1.]\n",
      " [1. 0. 0.]\n",
      " [1. 0. 0.]\n",
      " [0. 0. 1.]\n",
      " [0. 0. 1.]\n",
      " [1. 0. 0.]\n",
      " [0. 0. 1.]\n",
      " [1. 0. 0.]\n",
      " [0. 0. 1.]\n",
      " [1. 0. 0.]\n",
      " [0. 1. 0.]\n",
      " [0. 1. 0.]\n",
      " [0. 1. 0.]\n",
      " [1. 0. 0.]\n",
      " [0. 1. 0.]\n",
      " [0. 0. 1.]\n",
      " [0. 1. 0.]\n",
      " [0. 0. 1.]\n",
      " [1. 0. 0.]\n",
      " [0. 0. 1.]\n",
      " [0. 1. 0.]\n",
      " [0. 0. 1.]\n",
      " [0. 0. 1.]\n",
      " [0. 1. 0.]\n",
      " [0. 1. 0.]\n",
      " [0. 1. 0.]\n",
      " [0. 1. 0.]\n",
      " [0. 0. 1.]\n",
      " [0. 1. 0.]\n",
      " [1. 0. 0.]\n",
      " [0. 1. 0.]\n",
      " [1. 0. 0.]\n",
      " [0. 0. 1.]\n",
      " [1. 0. 0.]\n",
      " [0. 1. 0.]\n",
      " [0. 0. 1.]\n",
      " [0. 1. 0.]\n",
      " [1. 0. 0.]\n",
      " [1. 0. 0.]\n",
      " [1. 0. 0.]\n",
      " [1. 0. 0.]\n",
      " [0. 1. 0.]\n",
      " [1. 0. 0.]\n",
      " [0. 0. 1.]\n",
      " [0. 1. 0.]\n",
      " [0. 0. 1.]\n",
      " [0. 1. 0.]\n",
      " [0. 0. 1.]\n",
      " [1. 0. 0.]\n",
      " [0. 1. 0.]\n",
      " [0. 0. 1.]\n",
      " [0. 0. 1.]\n",
      " [1. 0. 0.]\n",
      " [0. 1. 0.]\n",
      " [1. 0. 0.]\n",
      " [0. 0. 1.]\n",
      " [0. 0. 1.]\n",
      " [0. 0. 1.]\n",
      " [0. 1. 0.]\n",
      " [1. 0. 0.]\n",
      " [1. 0. 0.]\n",
      " [0. 1. 0.]\n",
      " [1. 0. 0.]\n",
      " [1. 0. 0.]\n",
      " [0. 0. 1.]\n",
      " [0. 1. 0.]\n",
      " [0. 0. 1.]\n",
      " [0. 1. 0.]\n",
      " [1. 0. 0.]\n",
      " [0. 1. 0.]\n",
      " [0. 0. 1.]\n",
      " [0. 1. 0.]\n",
      " [0. 1. 0.]]\n",
      "[[1. 0. 0.]\n",
      " [1. 0. 0.]\n",
      " [0. 0. 1.]\n",
      " [0. 0. 1.]\n",
      " [0. 1. 0.]\n",
      " [0. 1. 0.]\n",
      " [0. 1. 0.]\n",
      " [0. 0. 1.]\n",
      " [0. 0. 1.]\n",
      " [1. 0. 0.]\n",
      " [0. 0. 1.]\n",
      " [0. 1. 0.]\n",
      " [0. 0. 1.]\n",
      " [0. 1. 0.]\n",
      " [1. 0. 0.]\n",
      " [0. 0. 1.]\n",
      " [1. 0. 0.]\n",
      " [0. 0. 1.]\n",
      " [1. 0. 0.]\n",
      " [1. 0. 0.]\n",
      " [0. 1. 0.]\n",
      " [1. 0. 0.]\n",
      " [0. 0. 1.]\n",
      " [0. 1. 0.]\n",
      " [1. 0. 0.]\n",
      " [0. 1. 0.]\n",
      " [1. 0. 0.]\n",
      " [1. 0. 0.]\n",
      " [1. 0. 0.]\n",
      " [0. 1. 0.]\n",
      " [0. 1. 0.]\n",
      " [1. 0. 0.]\n",
      " [1. 0. 0.]\n",
      " [0. 1. 0.]\n",
      " [0. 0. 1.]\n",
      " [0. 0. 1.]\n",
      " [1. 0. 0.]\n",
      " [0. 1. 0.]]\n"
     ]
    }
   ],
   "source": [
    "import tensorflow as tf\n",
    "\n",
    "y_train = tf.keras.utils.to_categorical(y_train-1, num_classes=3)\n",
    "print(y_train)\n",
    "y_test = tf.keras.utils.to_categorical(y_test-1, num_classes=3)\n",
    "print(y_test)"
   ]
  },
  {
   "cell_type": "code",
   "execution_count": 8,
   "id": "28eaf8f4",
   "metadata": {},
   "outputs": [
    {
     "data": {
      "text/plain": [
       "array([1., 0., 0.], dtype=float32)"
      ]
     },
     "execution_count": 8,
     "metadata": {},
     "output_type": "execute_result"
    }
   ],
   "source": [
    "y_train[0]"
   ]
  },
  {
   "cell_type": "code",
   "execution_count": 9,
   "id": "30673474",
   "metadata": {},
   "outputs": [],
   "source": [
    "from keras.models import Sequential\n",
    "from keras.layers import Dense\n",
    "\n",
    "# define the keras model\n",
    "model = Sequential()\n",
    "model.add(Dense(12,  input_dim=4, activation='relu'))\n",
    "model.add(Dense(8, activation='relu'))\n",
    "model.add(Dense(3, activation='softmax'))\n",
    "\n",
    "sgd = tf.keras.optimizers.SGD(learning_rate=0.001, momentum=0.9, nesterov=True)\n",
    "\n",
    "#adam = keras.optimizers.Adam(learning_rate=0.01)\n",
    "\n",
    "# compile the keras model\n",
    "model.compile(loss='categorical_crossentropy', optimizer= sgd, metrics=['accuracy'])"
   ]
  },
  {
   "cell_type": "code",
   "execution_count": 11,
   "id": "15ac20af",
   "metadata": {},
   "outputs": [
    {
     "name": "stdout",
     "output_type": "stream",
     "text": [
      "Epoch 1/28\n",
      "8/8 [==============================] - 0s 2ms/step - loss: 0.6308 - accuracy: 0.7054\n",
      "Epoch 2/28\n",
      "8/8 [==============================] - 0s 3ms/step - loss: 0.6109 - accuracy: 0.7411\n",
      "Epoch 3/28\n",
      "8/8 [==============================] - 0s 3ms/step - loss: 0.5870 - accuracy: 0.7411\n",
      "Epoch 4/28\n",
      "8/8 [==============================] - 0s 3ms/step - loss: 0.5657 - accuracy: 0.7411\n",
      "Epoch 5/28\n",
      "8/8 [==============================] - 0s 3ms/step - loss: 0.5445 - accuracy: 0.7679\n",
      "Epoch 6/28\n",
      "8/8 [==============================] - 0s 1ms/step - loss: 0.5260 - accuracy: 0.7321\n",
      "Epoch 7/28\n",
      "8/8 [==============================] - 0s 3ms/step - loss: 0.5038 - accuracy: 0.7411\n",
      "Epoch 8/28\n",
      "8/8 [==============================] - 0s 2ms/step - loss: 0.4960 - accuracy: 0.8929\n",
      "Epoch 9/28\n",
      "8/8 [==============================] - 0s 3ms/step - loss: 0.4699 - accuracy: 0.8571\n",
      "Epoch 10/28\n",
      "8/8 [==============================] - 0s 2ms/step - loss: 0.4540 - accuracy: 0.8482\n",
      "Epoch 11/28\n",
      "8/8 [==============================] - 0s 2ms/step - loss: 0.4408 - accuracy: 0.9018\n",
      "Epoch 12/28\n",
      "8/8 [==============================] - 0s 1ms/step - loss: 0.4302 - accuracy: 0.9196\n",
      "Epoch 13/28\n",
      "8/8 [==============================] - 0s 3ms/step - loss: 0.4173 - accuracy: 0.9107\n",
      "Epoch 14/28\n",
      "8/8 [==============================] - 0s 2ms/step - loss: 0.4107 - accuracy: 0.8482\n",
      "Epoch 15/28\n",
      "8/8 [==============================] - 0s 3ms/step - loss: 0.4017 - accuracy: 0.9286\n",
      "Epoch 16/28\n",
      "8/8 [==============================] - 0s 3ms/step - loss: 0.3913 - accuracy: 0.9643\n",
      "Epoch 17/28\n",
      "8/8 [==============================] - 0s 1ms/step - loss: 0.3830 - accuracy: 0.8750\n",
      "Epoch 18/28\n",
      "8/8 [==============================] - 0s 2ms/step - loss: 0.3764 - accuracy: 0.9196\n",
      "Epoch 19/28\n",
      "8/8 [==============================] - 0s 2ms/step - loss: 0.3677 - accuracy: 0.9375\n",
      "Epoch 20/28\n",
      "8/8 [==============================] - 0s 3ms/step - loss: 0.3606 - accuracy: 0.9196\n",
      "Epoch 21/28\n",
      "8/8 [==============================] - 0s 3ms/step - loss: 0.3549 - accuracy: 0.9821\n",
      "Epoch 22/28\n",
      "8/8 [==============================] - 0s 1ms/step - loss: 0.3471 - accuracy: 0.9375\n",
      "Epoch 23/28\n",
      "8/8 [==============================] - 0s 3ms/step - loss: 0.3492 - accuracy: 0.8839\n",
      "Epoch 24/28\n",
      "8/8 [==============================] - 0s 3ms/step - loss: 0.3424 - accuracy: 0.9554\n",
      "Epoch 25/28\n",
      "8/8 [==============================] - 0s 2ms/step - loss: 0.3293 - accuracy: 0.9643\n",
      "Epoch 26/28\n",
      "8/8 [==============================] - 0s 2ms/step - loss: 0.3286 - accuracy: 0.9107\n",
      "Epoch 27/28\n",
      "8/8 [==============================] - 0s 1ms/step - loss: 0.3239 - accuracy: 0.9643\n",
      "Epoch 28/28\n",
      "8/8 [==============================] - 0s 829us/step - loss: 0.3169 - accuracy: 0.9821\n",
      "2/2 [==============================] - 0s 0s/step - loss: 0.3437 - accuracy: 0.9211\n",
      "Accuracy: 92.11\n"
     ]
    }
   ],
   "source": [
    "history = model.fit(x_train, y_train, epochs=28, batch_size=15)\n",
    "\n",
    "# evaluate the keras model\n",
    "_, accuracy = model.evaluate(x_test, y_test)\n",
    "print('Accuracy: %.2f' % (accuracy*100))"
   ]
  },
  {
   "cell_type": "code",
   "execution_count": null,
   "id": "bdd49b05",
   "metadata": {},
   "outputs": [],
   "source": []
  }
 ],
 "metadata": {
  "kernelspec": {
   "display_name": "Python 3 (ipykernel)",
   "language": "python",
   "name": "python3"
  },
  "language_info": {
   "codemirror_mode": {
    "name": "ipython",
    "version": 3
   },
   "file_extension": ".py",
   "mimetype": "text/x-python",
   "name": "python",
   "nbconvert_exporter": "python",
   "pygments_lexer": "ipython3",
   "version": "3.11.3"
  }
 },
 "nbformat": 4,
 "nbformat_minor": 5
}
